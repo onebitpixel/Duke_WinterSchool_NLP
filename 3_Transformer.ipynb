{
  "nbformat": 4,
  "nbformat_minor": 0,
  "metadata": {
    "colab": {
      "name": "3_Transformer.ipynb",
      "provenance": [],
      "collapsed_sections": [],
      "include_colab_link": true
    },
    "kernelspec": {
      "display_name": "Python 3",
      "name": "python3"
    }
  },
  "cells": [
    {
      "cell_type": "markdown",
      "metadata": {
        "id": "view-in-github",
        "colab_type": "text"
      },
      "source": [
        "<a href=\"https://colab.research.google.com/github/onebitpixel/Duke_WinterSchool_NLP/blob/master/3_Transformer.ipynb\" target=\"_parent\"><img src=\"https://colab.research.google.com/assets/colab-badge.svg\" alt=\"Open In Colab\"/></a>"
      ]
    },
    {
      "cell_type": "markdown",
      "metadata": {
        "colab_type": "text",
        "id": "-pVhOfzLx9us"
      },
      "source": [
        "# Implementing the Transformer Network in PyTorch\n",
        "\n"
      ]
    },
    {
      "cell_type": "markdown",
      "metadata": {
        "id": "8DDqagqPiEj4",
        "colab_type": "text"
      },
      "source": [
        "In this notebook, we will build a Transformer network in PyTorch to do two sequence-to-sequence tasks (copy and paste; machine translation). First, we will implement all the modules in a Transformer network, including Multi-Headed Attention Network, Position-Wise Feed-Forward Networks, Embeddings and Softmax, Positional Encoding, etc. Second, we will combine them and build the final encoder-decoder model. At last, we will evaluate the Transformer model on a simple copy-paste task and a German-English machine translation task. The Colab link is https://colab.research.google.com/drive/1ZxmTZeHW2G4EYQdZg6wgt-1BNPT-DIKk."
      ]
    },
    {
      "cell_type": "markdown",
      "metadata": {
        "colab_type": "text",
        "id": "8QAWNjizy_3O"
      },
      "source": [
        "## The Transformer model\n",
        "\n",
        "Let's recall the Transformer model discussed in the previous lecture \"The Transformer Network for NLP\".\n",
        "\n",
        "![](https://drive.google.com/uc?id=1PpiyJfOAqGYG5KeJN79iUzL5SLkdcT9w)\n"
      ]
    },
    {
      "cell_type": "markdown",
      "metadata": {
        "id": "7u7lz2YcUy_1",
        "colab_type": "text"
      },
      "source": [
        "## Requirements and Installation\n",
        "\n",
        "Before we get started, let's import the packages we'll be using.\n",
        "\n"
      ]
    },
    {
      "cell_type": "code",
      "metadata": {
        "id": "31lBE7_HVA11",
        "colab_type": "code",
        "colab": {}
      },
      "source": [
        "# Uncomment and run it if you are not using Colab. Colab is discussed in the previous lecture \"0B_Coding_Environments.ipynb\".\n",
        "# !pip install torch numpy matplotlib spacy torchtext seaborn "
      ],
      "execution_count": 0,
      "outputs": []
    },
    {
      "cell_type": "code",
      "metadata": {
        "id": "dHrOpRKGU-iB",
        "colab_type": "code",
        "colab": {}
      },
      "source": [
        "import numpy as np\n",
        "import torch\n",
        "import torch.nn as nn\n",
        "import torch.nn.functional as F\n",
        "import math, copy, time\n",
        "from torch.autograd import Variable\n",
        "import matplotlib.pyplot as plt\n",
        "%matplotlib inline"
      ],
      "execution_count": 0,
      "outputs": []
    },
    {
      "cell_type": "markdown",
      "metadata": {
        "id": "RmXUa99MH1Hj",
        "colab_type": "text"
      },
      "source": [
        "## Multi-Headed Attention Network\n",
        "\n",
        "<figure>\n",
        "<center>\n",
        "<img src='https://drive.google.com/uc?id=1dAjWR_mhZfEiIsUB28T6txzN6rMXcYlf' width=\"450\" height=\"600\" />\n",
        "<!---<figcaption>Image Caption</figcaption>--->\n",
        "</center>\n",
        "</figure>\n",
        "\n",
        "### Scaled Dot-Product Attention\n",
        "\n",
        "#### The input of the “Scaled Dot-Product Attention” consists of queries and keys of dimension $n \\times d_k$, and values of dimension $n \\times d_v$. We compute the dot products of the query with all keys, divide each by $\\sqrt{d_k}$, and apply a softmax function to obtain the weights on the values.\n",
        "\n",
        "\n",
        "<figure>\n",
        "<center>\n",
        "<img src='https://drive.google.com/uc?id=1eTqwXpLZL-fNWbxK37oETvs-aeo59RRR'/>\n",
        "<!---<figcaption>Image Caption</figcaption>--->\n",
        "</center>\n",
        "</figure>\n",
        "\n",
        "#### The reason that we scale the dot products by $\\frac{1}{\\sqrt{d_k}}$ is:\n",
        "\n",
        "#### If the value of $d_k$ is large, we scale the dot products by $\\frac{1}{\\sqrt{d_k}}$ to avoid the large magnitude of the dot products. For example, assume the components of $q$ and $k$ are independent random variables with mean $0$ and variance $1$, their dot product $q \\cdot k = \\sum_{i=1}^{d_k} q_ik_i$ has mean $0$ and variance $d_k$.\n"
      ]
    },
    {
      "cell_type": "code",
      "metadata": {
        "id": "ifuxRgr6H8Gw",
        "colab_type": "code",
        "colab": {}
      },
      "source": [
        "def attention(query, key, value, mask=None, dropout=None):\n",
        "    \"Compute 'Scaled Dot Product Attention'\"\n"
      ],
      "execution_count": 0,
      "outputs": []
    },
    {
      "cell_type": "markdown",
      "metadata": {
        "id": "628XH0pfHcXz",
        "colab_type": "text"
      },
      "source": [
        "#### Example:"
      ]
    },
    {
      "cell_type": "code",
      "metadata": {
        "id": "kKHQMi99GtCw",
        "colab_type": "code",
        "outputId": "fd506047-b8e9-4e3b-d59c-274cf14a54fe",
        "colab": {
          "base_uri": "https://localhost:8080/",
          "height": 85
        }
      },
      "source": [
        "Q = torch.randn(2,3)\n",
        "K = torch.randn(2,3)\n",
        "V = torch.randn(2,5)\n",
        "\n",
        "output, p_attn = attention(Q, K, V)\n",
        "print(output.size(), p_attn.size())\n",
        "print(p_attn)\n",
        "print(torch.sum(p_attn, dim=-1))\n"
      ],
      "execution_count": 0,
      "outputs": [
        {
          "output_type": "stream",
          "text": [
            "torch.Size([2, 5]) torch.Size([2, 2])\n",
            "tensor([[0.2983, 0.7017],\n",
            "        [0.1430, 0.8570]])\n",
            "tensor([1., 1.])\n"
          ],
          "name": "stdout"
        }
      ]
    },
    {
      "cell_type": "markdown",
      "metadata": {
        "id": "yjPx0pI4K_PC",
        "colab_type": "text"
      },
      "source": [
        "\n",
        "### Multi-Headed Attention\n",
        "\n",
        "The model uses multi-headed attention to jointly attend to information from different representation subspaces at different positions, while with a single attention head the model cannot.\n",
        "\n",
        "The parameter matrices of the four Linear layers are $W^Q_i \\in \\mathbb{R}^{d_{\\text{model}} \\times d_k}$, $W^K_i \\in \\mathbb{R}^{d_{\\text{model}} \\times d_k}$, $W^V_i \\in \\mathbb{R}^{d_{\\text{model}} \\times d_v}$ and $W^O \\in \\mathbb{R}^{hd_v \\times d_{\\text{model}}}$. In the codes below, we employ the attention heads $h=8$, $d_{\\text{model}}=512$, and $d_k=d_v=d_{\\text{model}}/h=64$.\n",
        "\n",
        "<figure>\n",
        "<center>\n",
        "<img src='https://drive.google.com/uc?id=1Vw3BguL7Mvc4Ddqw1uvIBhN52GPKgpJL' width=\"450\" height=\"500\" />\n",
        "<!---<figcaption>Image Caption</figcaption>--->\n",
        "</center>\n",
        "</figure>\n"
      ]
    },
    {
      "cell_type": "code",
      "metadata": {
        "id": "3DKouLfbLh2-",
        "colab_type": "code",
        "colab": {}
      },
      "source": [
        "class MultiHeadedAttention(nn.Module):\n",
        "    def __init__(self, h, d_model, dropout=0.1):\n",
        "        \"Take in model size and number of heads.\"\n",
        "        \n",
        "    def forward(self, query, key, value, mask=None):\n",
        "        \"Implement the figure.\"\n",
        "        "
      ],
      "execution_count": 0,
      "outputs": []
    },
    {
      "cell_type": "markdown",
      "metadata": {
        "id": "2Dl2sMHhNuGY",
        "colab_type": "text"
      },
      "source": [
        "## Position-Wise Feed-Forward Networks\n",
        "\n",
        "The position-wise feed-forward network is a two-layer fully connected network with a ReLU activation in between. The dimensionality of input and output is $d_{\\text{model}}=512$, and the inner-layer has the dimensionality $d_{ff}=2048$.\n",
        "\n",
        "<figure>\n",
        "<center>\n",
        "<img src='https://drive.google.com/uc?id=13SC5hJ9vKchWy4lM4HTHpz0DNvyCwUAs' width=\"450\" height=\"600\" />\n",
        "<!---<figcaption>Image Caption</figcaption>--->\n",
        "</center>\n",
        "</figure>"
      ]
    },
    {
      "cell_type": "code",
      "metadata": {
        "id": "kJWPWo2iN1Te",
        "colab_type": "code",
        "colab": {}
      },
      "source": [
        "class PositionwiseFeedForward(nn.Module):\n",
        "    \"Implement the FFN equation.\"\n",
        "    def __init__(self, d_model, d_ff, dropout=0.1):\n",
        "        \n",
        "    def forward(self, x):\n"
      ],
      "execution_count": 0,
      "outputs": []
    },
    {
      "cell_type": "markdown",
      "metadata": {
        "id": "1LrrMwbCPcHP",
        "colab_type": "text"
      },
      "source": [
        "## Add&Norm and Skip-Connect\n",
        "\n",
        "We employ a residual connection around each of the two sub-layers (Multi-Headed Attention, FeedForward Network), followed by a layer normalization which can be represented as $\\mathrm{LayerNorm}(x + Dropout(\\mathrm{Sublayer}(x)))$.\n",
        "\n",
        "To make the add operation viable, all sub-layers in the model, as well as the embedding layers, produce outputs of the dimension $d_{\\text{model}}=512$.\n",
        "\n",
        "\n",
        "<figure>\n",
        "<center>\n",
        "<img src='https://drive.google.com/uc?id=1YBkh8m-iA8UL2MzBE6jr3kQkjtIWddbO' width=\"450\" height=\"600\" />\n",
        "<!---<figcaption>Image Caption</figcaption>--->\n",
        "</center>\n",
        "</figure>\n"
      ]
    },
    {
      "cell_type": "code",
      "metadata": {
        "id": "r2FvLl6oPd8O",
        "colab_type": "code",
        "colab": {}
      },
      "source": [
        "class SublayerConnection(nn.Module):\n",
        "    \"\"\"\n",
        "    A residual connection followed by a layer norm.\n",
        "    Note for code simplicity the norm is first as opposed to last.\n",
        "    \"\"\"\n",
        "    def __init__(self, size, dropout):\n",
        "\n",
        "    def forward(self, x, sublayer):\n",
        "        \"Apply residual connection to any sublayer with the same size.\"\n"
      ],
      "execution_count": 0,
      "outputs": []
    },
    {
      "cell_type": "markdown",
      "metadata": {
        "id": "Q-rUGIOcN4Hq",
        "colab_type": "text"
      },
      "source": [
        "## Embeddings and Softmax\n",
        "The learned linear transformation (or learned embeddings) converts the input/output tokens to the $d_{\\text{model}}$-dimentional vectors. And we use the embeddings and softmax to convert the output of the decoder to predicted next-token probabilities. \n",
        "\n",
        "\n",
        "<figure>\n",
        "<center>\n",
        "<img src='https://drive.google.com/uc?id=1llvh0JQXzqBXNEP3LyK25YEzjs_ZZYVZ' width=\"450\" height=\"600\" />\n",
        "<!---<figcaption>Image Caption</figcaption>--->\n",
        "</center>\n",
        "</figure>"
      ]
    },
    {
      "cell_type": "code",
      "metadata": {
        "id": "ct42hfzVN80-",
        "colab_type": "code",
        "colab": {}
      },
      "source": [
        "class Embeddings(nn.Module):\n",
        "    def __init__(self, d_model, vocab):\n",
        "\n",
        "    def forward(self, x):\n"
      ],
      "execution_count": 0,
      "outputs": []
    },
    {
      "cell_type": "code",
      "metadata": {
        "id": "CytP3njdqTp_",
        "colab_type": "code",
        "colab": {}
      },
      "source": [
        "class Generator(nn.Module):\n",
        "    \"Define standard linear + softmax generation step.\"\n",
        "    def __init__(self, d_model, vocab):\n",
        "\n",
        "    def forward(self, x):\n"
      ],
      "execution_count": 0,
      "outputs": []
    },
    {
      "cell_type": "markdown",
      "metadata": {
        "id": "FFeHdTnCN97n",
        "colab_type": "text"
      },
      "source": [
        "## Positional Encoding\n",
        "\n",
        "The information from the order of the sequential tokens is injected to the model via positional encoding. The positional embeddings are added at the bottoms of the encoder and decoder stacks. In order to add them to the word embeddings, we choose the same dimension $d_{\\text{model}}$ as the word embeddings.\n",
        "\n",
        "In the codes below, we use sine and cosine functions of different frequencies.\n",
        "\n",
        "$    PE_{(pos,2i)} = sin(pos / 10000^{2i/d_{\\text{model}}}) \\\\\n",
        "    PE_{(pos,2i+1)} = cos(pos / 10000^{2i/d_{\\text{model}}})$\n",
        "\n",
        "The $pos$ is the position and $i$ is the dimension. That is, each dimension of the positional encoding corresponds to a sinusoid. The wavelengths form a geometric progression from $2\\pi$ to $10000 \\cdot 2\\pi$. We chose this function because we hypothesized it would allow the model to easily learn to attend by relative positions, since for any fixed offset $k$, $PE_{pos+k}$ can be represented as a linear function of $PE_{pos}$.\n",
        "\n",
        "What's more, we apply dropout with a rate of $P_{drop}=0.1$ to the sums of the embeddings and the positional encodings in both the encoder and decoder stacks.\n",
        "\n",
        "<figure>\n",
        "<center>\n",
        "<img src='https://drive.google.com/uc?id=1ayaDTqxzmyG44UWjU-rMJOtpx7gNsNAh' width=\"450\" height=\"600\" />\n",
        "<!---<figcaption>Image Caption</figcaption>--->\n",
        "</center>\n",
        "</figure>"
      ]
    },
    {
      "cell_type": "code",
      "metadata": {
        "id": "rRayOgoGOSys",
        "colab_type": "code",
        "colab": {}
      },
      "source": [
        "class PositionalEncoding(nn.Module):\n",
        "    \"Implement the PE function.\"\n",
        "    def __init__(self, d_model, dropout, max_len=5000):\n",
        "        \n",
        "    def forward(self, x):\n"
      ],
      "execution_count": 0,
      "outputs": []
    },
    {
      "cell_type": "markdown",
      "metadata": {
        "id": "weT8jR-aOWBq",
        "colab_type": "text"
      },
      "source": [
        "#### Example:\n",
        "\n",
        "For different positions (x-axis) and different dimensions (sine waves), the positional encodings (y-axis) are different."
      ]
    },
    {
      "cell_type": "code",
      "metadata": {
        "id": "MKGZw_EmOYfO",
        "colab_type": "code",
        "outputId": "87a53db6-bab2-4575-9ec1-13f599fa67e7",
        "colab": {
          "base_uri": "https://localhost:8080/",
          "height": 350
        }
      },
      "source": [
        "plt.figure(figsize=(15, 5))\n",
        "pe = PositionalEncoding(20, 0)\n",
        "y = pe.forward(Variable(torch.zeros(1, 100, 20)))\n",
        "plt.plot(np.arange(100), y[0, :, 4:8].data.numpy())\n",
        "plt.legend([\"dim %d\"%p for p in [4,5,6,7]])"
      ],
      "execution_count": 0,
      "outputs": [
        {
          "output_type": "execute_result",
          "data": {
            "text/plain": [
              "<matplotlib.legend.Legend at 0x7f88bb61e940>"
            ]
          },
          "metadata": {
            "tags": []
          },
          "execution_count": 23
        },
        {
          "output_type": "display_data",
          "data": {
            "image/png": "[encoded data removed]",
            "text/plain": [
              "<Figure size 1080x360 with 1 Axes>"
            ]
          },
          "metadata": {
            "tags": []
          }
        }
      ]
    },
    {
      "cell_type": "markdown",
      "metadata": {
        "id": "bLitQ_faO0Ub",
        "colab_type": "text"
      },
      "source": [
        "## Transformer Model Architecture\n",
        "\n",
        "The sequence-to-sequence task typically utlizes an **Encoder-Decoder** structure. The encoder maps an input sequence of symbol representations $(x_1, …, x_n)$ to a sequence of continuous representations $\\mathbf{z} = (z_1, …, z_n)$. Given $\\mathbf{z}$, the decoder then generates an output sequence $(y_1,…,y_m)$ of symbols one element at a time. At each step the model is auto-regressive, consuming the previously generated symbols as additional input when generating the next."
      ]
    },
    {
      "cell_type": "code",
      "metadata": {
        "id": "y5zewamhPAKZ",
        "colab_type": "code",
        "colab": {}
      },
      "source": [
        "class EncoderDecoder(nn.Module):\n",
        "    \"\"\"\n",
        "    A standard Encoder-Decoder architecture. Base for this and many \n",
        "    other models.\n",
        "    \"\"\"\n",
        "    def __init__(self, encoder, decoder, src_embed, tgt_embed, generator):\n",
        "        \n",
        "    def forward(self, src, tgt, src_mask, tgt_mask):\n",
        "        \"Take in and process masked src and target sequences.\"\n",
        "    \n",
        "    def encode(self, src, src_mask):\n",
        "    \n",
        "    def decode(self, memory, src_mask, tgt, tgt_mask):\n",
        "      "
      ],
      "execution_count": 0,
      "outputs": []
    },
    {
      "cell_type": "markdown",
      "metadata": {
        "id": "05hug9LnPKhn",
        "colab_type": "text"
      },
      "source": [
        "## Encoder and Decoder Stacks\n",
        "\n",
        "### Encoder\n",
        "The encoder is composed of a stack of $N=6$ identical layers. Each layer is a  multi-headed self-attention network followed by a position-wise fully connected feed-forward network.\n",
        "\n",
        "<figure>\n",
        "<center>\n",
        "<img src='https://drive.google.com/uc?id=1hKSpRIPvPLxBEl3PanUl9owhTqf4yAFo' width=\"300\" height=\"500\" />\n",
        "<!---<figcaption>Image Caption</figcaption>--->\n",
        "</center>\n",
        "</figure>"
      ]
    },
    {
      "cell_type": "code",
      "metadata": {
        "id": "F0qnQsHKPQm5",
        "colab_type": "code",
        "colab": {}
      },
      "source": [
        "def clones(module, N):\n",
        "    \"Produce N identical layers.\"\n",
        "    return nn.ModuleList([copy.deepcopy(module) for _ in range(N)])"
      ],
      "execution_count": 0,
      "outputs": []
    },
    {
      "cell_type": "code",
      "metadata": {
        "id": "YDsbnAlNPTDE",
        "colab_type": "code",
        "colab": {}
      },
      "source": [
        "class Encoder(nn.Module):\n",
        "    \"Core encoder is a stack of N layers\"\n",
        "    def __init__(self, layer, N):\n",
        "        \n",
        "    def forward(self, x, mask):\n",
        "        \"Pass the input (and mask) through each layer in turn.\"\n",
        "       "
      ],
      "execution_count": 0,
      "outputs": []
    },
    {
      "cell_type": "code",
      "metadata": {
        "id": "x0L2yYVLPhAD",
        "colab_type": "code",
        "colab": {}
      },
      "source": [
        "class EncoderLayer(nn.Module):\n",
        "    \"Encoder is made up of self-attn and feed forward (defined below)\"\n",
        "    def __init__(self, size, self_attn, feed_forward, dropout):\n",
        "        \n",
        "    def forward(self, x, mask):\n",
        "        \"Follow Figure 1 (left) for connections.\"\n",
        "       "
      ],
      "execution_count": 0,
      "outputs": []
    },
    {
      "cell_type": "markdown",
      "metadata": {
        "id": "LRqGJzdRPjuB",
        "colab_type": "text"
      },
      "source": [
        "### Decoder\n",
        "\n",
        "The decoder is also composed of a stack of $N=6$ identical layers. Each layer in the decoder consists of three sub-layers, multi-headed self-attention networks, a multi-headed attention network over the output of the encoder stack, and a position-wise fully connected feed-forward network. \n",
        "\n",
        "<figure>\n",
        "<center>\n",
        "<img src='https://drive.google.com/uc?id=1jX9m6mK_DBv7hsOkcHkHYDJiUq4VtR_U' width=\"450\" height=\"600\" />\n",
        "<!---<figcaption>Image Caption</figcaption>--->\n",
        "</center>\n",
        "</figure>"
      ]
    },
    {
      "cell_type": "code",
      "metadata": {
        "id": "yig3hwFYPqNR",
        "colab_type": "code",
        "colab": {}
      },
      "source": [
        "class Decoder(nn.Module):\n",
        "    \"Generic N layer decoder with masking.\"\n",
        "    def __init__(self, layer, N):\n",
        "        \n",
        "    def forward(self, x, memory, src_mask, tgt_mask):\n",
        "       "
      ],
      "execution_count": 0,
      "outputs": []
    },
    {
      "cell_type": "code",
      "metadata": {
        "id": "Rc3bikbJPt7c",
        "colab_type": "code",
        "colab": {}
      },
      "source": [
        "class DecoderLayer(nn.Module):\n",
        "    \"Decoder is made of self-attn, src-attn, and feed forward (defined below)\"\n",
        "    def __init__(self, size, self_attn, src_attn, feed_forward, dropout):\n",
        "        \n",
        "    def forward(self, x, memory, src_mask, tgt_mask):\n",
        "        \"Follow Figure 1 (right) for connections.\"\n",
        "        "
      ],
      "execution_count": 0,
      "outputs": []
    },
    {
      "cell_type": "markdown",
      "metadata": {
        "id": "IWHtE26BPxaM",
        "colab_type": "text"
      },
      "source": [
        "Masking is used in the self-attention sub-layer in the decoder stack to prevent from attending to subsequent positions. It ensures the predictions for position $i$ depend only on the words on the left side of word at position $i$."
      ]
    },
    {
      "cell_type": "code",
      "metadata": {
        "id": "9dL0PS15Pybv",
        "colab_type": "code",
        "colab": {}
      },
      "source": [
        "def subsequent_mask(size):\n",
        "    \"Mask out subsequent positions.\"\n",
        "    "
      ],
      "execution_count": 0,
      "outputs": []
    },
    {
      "cell_type": "markdown",
      "metadata": {
        "id": "xQxL3o3bP1QR",
        "colab_type": "text"
      },
      "source": [
        "#####Example: \n",
        "We show an example below to demonstrate the position each tgt word (row) is allowed to look at (column) under the masking mechanism. During the training, words are blocked for attending to future words."
      ]
    },
    {
      "cell_type": "code",
      "metadata": {
        "id": "MWIS8MmuP26t",
        "colab_type": "code",
        "outputId": "1b2563d5-0e10-4791-c8b2-635ea48933a4",
        "colab": {
          "base_uri": "https://localhost:8080/",
          "height": 338
        }
      },
      "source": [
        "plt.figure(figsize=(5,5))\n",
        "pos = plt.imshow(subsequent_mask(20)[0]*1, cmap='Blues') # True -> 1, False -> 0\n",
        "plt.colorbar(pos)"
      ],
      "execution_count": 0,
      "outputs": [
        {
          "output_type": "execute_result",
          "data": {
            "text/plain": [
              "<matplotlib.colorbar.Colorbar at 0x7f88b98c77f0>"
            ]
          },
          "metadata": {
            "tags": []
          },
          "execution_count": 31
        },
        {
          "output_type": "display_data",
          "data": {
            "image/png": "[encoded data removed]",
            "text/plain": [
              "<Figure size 360x360 with 2 Axes>"
            ]
          },
          "metadata": {
            "tags": []
          }
        }
      ]
    },
    {
      "cell_type": "markdown",
      "metadata": {
        "id": "ZLJ4vydpOo8r",
        "colab_type": "text"
      },
      "source": [
        "## Make a Full Model\n",
        "\n",
        "We define a function that takes in hyperparameters and generates a full Encoder-Decoder Transformer Network.\n"
      ]
    },
    {
      "cell_type": "code",
      "metadata": {
        "id": "ovFOsA7EOv5a",
        "colab_type": "code",
        "colab": {}
      },
      "source": [
        "def make_model(src_vocab, tgt_vocab, N=6, \n",
        "               d_model=512, d_ff=2048, h=8, dropout=0.1):\n",
        "    \"Helper: Construct a model from hyperparameters.\"\n",
        "    c = copy.deepcopy\n",
        "    attn = MultiHeadedAttention(h, d_model)\n",
        "    ff = PositionwiseFeedForward(d_model, d_ff, dropout)\n",
        "    position = PositionalEncoding(d_model, dropout)\n",
        "    model = EncoderDecoder(\n",
        "        Encoder(EncoderLayer(d_model, c(attn), c(ff), dropout), N),\n",
        "        Decoder(DecoderLayer(d_model, c(attn), c(attn), \n",
        "                             c(ff), dropout), N),\n",
        "        nn.Sequential(Embeddings(d_model, src_vocab), c(position)),\n",
        "        nn.Sequential(Embeddings(d_model, tgt_vocab), c(position)),\n",
        "        Generator(d_model, tgt_vocab))\n",
        "    \n",
        "    # Initialize parameters with Glorot / fan_avg.\n",
        "    for p in model.parameters():\n",
        "        if p.dim() > 1:\n",
        "            nn.init.xavier_uniform_(p)\n",
        "    return model"
      ],
      "execution_count": 0,
      "outputs": []
    },
    {
      "cell_type": "markdown",
      "metadata": {
        "id": "KrCzIy-3Qk94",
        "colab_type": "text"
      },
      "source": [
        "## Training\n",
        "We will describe the training for the Transformer model.\n",
        "\n",
        "### Batches and Masking\n",
        "\n",
        "First, we define a batch ojbect. It holds the source (src) and target (trg) sentences for training, and constructs the masks."
      ]
    },
    {
      "cell_type": "code",
      "metadata": {
        "id": "lD6YktROQtxH",
        "colab_type": "code",
        "colab": {}
      },
      "source": [
        "class Batch:\n",
        "    \"Object for holding a batch of data with mask during training.\"\n",
        "    def __init__(self, src, trg=None, pad=0):\n",
        "        self.src = src\n",
        "        self.src_mask = (src != pad).unsqueeze(-2)\n",
        "        if trg is not None:\n",
        "            self.trg = trg[:, :-1]\n",
        "            self.trg_y = trg[:, 1:]\n",
        "            self.trg_mask = \\\n",
        "                self.make_std_mask(self.trg, pad)\n",
        "            self.ntokens = (self.trg_y != pad).data.sum()\n",
        "    \n",
        "    @staticmethod\n",
        "    def make_std_mask(tgt, pad):\n",
        "        \"Create a mask to hide padding and future words.\"\n",
        "        tgt_mask = (tgt != pad).unsqueeze(-2)\n",
        "        tgt_mask = tgt_mask & Variable(\n",
        "            subsequent_mask(tgt.size(-1)).type_as(tgt_mask.data))\n",
        "        return tgt_mask"
      ],
      "execution_count": 0,
      "outputs": []
    },
    {
      "cell_type": "markdown",
      "metadata": {
        "id": "PKL5ux8BQxKk",
        "colab_type": "text"
      },
      "source": [
        "### Training Loop\n",
        "\n",
        "Next we create a training loop to update the model.\n"
      ]
    },
    {
      "cell_type": "code",
      "metadata": {
        "id": "WoZrpp_KQ1bt",
        "colab_type": "code",
        "colab": {}
      },
      "source": [
        "def run_epoch(data_iter, model, loss_compute):\n",
        "    \"Standard Training and Logging Function\"\n",
        "    start = time.time()\n",
        "    total_tokens = 0\n",
        "    total_loss = 0\n",
        "    tokens = 0\n",
        "    for i, batch in enumerate(data_iter):\n",
        "        out = model.forward(batch.src, batch.trg, \n",
        "                            batch.src_mask, batch.trg_mask)\n",
        "        loss = loss_compute(out, batch.trg_y, batch.ntokens)\n",
        "        total_loss += loss\n",
        "        total_tokens += batch.ntokens\n",
        "        tokens += batch.ntokens\n",
        "        if i % 50 == 1:\n",
        "            elapsed = time.time() - start\n",
        "            print(\"Epoch Step: %d Loss: %f Tokens per Sec: %f\" %\n",
        "                    (i, loss / batch.ntokens, tokens / elapsed))\n",
        "            start = time.time()\n",
        "            tokens = 0\n",
        "    return total_loss / total_tokens"
      ],
      "execution_count": 0,
      "outputs": []
    },
    {
      "cell_type": "markdown",
      "metadata": {
        "id": "4qPoWpjjQ9oF",
        "colab_type": "text"
      },
      "source": [
        "### Optimizer\n",
        "We use the Adam optimizer with $\\beta_1=0.9$, $\\beta_2=0.98$ and $\\epsilon=10^{-9}$. We define a optimizer wrapper to vary the learning rate over the course of training.  The learning rate is increased linearly for the first $steps_{warmup}=4000$ training steps, and decreased thereafter proportionally to the inverse square root of the step number. \n"
      ]
    },
    {
      "cell_type": "code",
      "metadata": {
        "id": "7RiOO5X6sOzS",
        "colab_type": "code",
        "colab": {}
      },
      "source": [
        "class OptWrapper:\n",
        "    \"Optim wrapper that implements rate.\"\n",
        "    def __init__(self, model_size, factor, warmup, optimizer):\n",
        "        self.optimizer = optimizer\n",
        "        self.warmup = warmup\n",
        "        self.factor = factor\n",
        "        self.model_size = model_size\n",
        "        self._step = 0\n",
        "\n",
        "        self.lr_lambda = lambda step: self.factor * (self.model_size ** (-0.5) *\n",
        "                    min(step ** (-0.5), step * self.warmup ** (-1.5)))\n",
        "\n",
        "    def step(self):\n",
        "        \"Update parameters and rate\"\n",
        "        self._step += 1\n",
        "        rate = self.lr_lambda(self._step)\n",
        "        for p in self.optimizer.param_groups:\n",
        "            p['lr'] = rate\n",
        "        self.optimizer.step()\n"
      ],
      "execution_count": 0,
      "outputs": []
    },
    {
      "cell_type": "markdown",
      "metadata": {
        "id": "XQsBUr1MRGfV",
        "colab_type": "text"
      },
      "source": [
        "####Example:\n",
        "\n",
        "The curve of the learning rate scheduler is as follows."
      ]
    },
    {
      "cell_type": "code",
      "metadata": {
        "id": "-SZlJvuHRKX8",
        "colab_type": "code",
        "outputId": "598078af-386b-4820-bbbf-49649a8bfa81",
        "colab": {
          "base_uri": "https://localhost:8080/",
          "height": 296
        }
      },
      "source": [
        "# Three settings of the lrate hyperparameters.\n",
        "lr_factor = 2\n",
        "lr_model_size = 400\n",
        "lr_warmup = 4000\n",
        "lr_lambda = lambda step: lr_factor * (lr_model_size ** (-0.5) *\n",
        "                    min((step+1) ** (-0.5), (step+1) * lr_warmup ** (-1.5)))\n",
        "\n",
        "plt.plot(np.arange(1, 20000), [lr_lambda(i) for i in range(1, 20000)])\n",
        "plt.legend([\"Learning Rate\"])\n"
      ],
      "execution_count": 0,
      "outputs": [
        {
          "output_type": "execute_result",
          "data": {
            "text/plain": [
              "<matplotlib.legend.Legend at 0x7f88bb6442e8>"
            ]
          },
          "metadata": {
            "tags": []
          },
          "execution_count": 36
        },
        {
          "output_type": "display_data",
          "data": {
            "image/png": "[encoded data removed]",
            "text/plain": [
              "<Figure size 432x288 with 1 Axes>"
            ]
          },
          "metadata": {
            "tags": []
          }
        }
      ]
    },
    {
      "cell_type": "markdown",
      "metadata": {
        "id": "Hi8ro-mPRNN1",
        "colab_type": "text"
      },
      "source": [
        "### Regularization\n",
        "\n",
        "#### Label Smoothing\n",
        "During the training, we employ label smoothing of value $\\epsilon_{ls}=0.1$. This hurts perplexity, as the model learns to be more unsure, but improves accuracy and BLEU score. We implement label smoothing using the Kullback–Leibler divergence loss. "
      ]
    },
    {
      "cell_type": "code",
      "metadata": {
        "id": "WYZp4JLRRTMV",
        "colab_type": "code",
        "colab": {}
      },
      "source": [
        "class LabelSmoothing(nn.Module):\n",
        "    \"Implement label smoothing.\"\n",
        "    def __init__(self, size, padding_idx, smoothing=0.0):\n",
        "        super(LabelSmoothing, self).__init__()\n",
        "        self.criterion = nn.KLDivLoss(reduction='sum')\n",
        "        self.padding_idx = padding_idx\n",
        "        self.confidence = 1.0 - smoothing\n",
        "        self.smoothing = smoothing\n",
        "        self.size = size\n",
        "        self.true_dist = None\n",
        "        \n",
        "    def forward(self, x, target):\n",
        "        assert x.size(1) == self.size\n",
        "        true_dist = x.data.clone()\n",
        "        true_dist.fill_(self.smoothing / (self.size - 2))\n",
        "        true_dist.scatter_(1, target.data.unsqueeze(1), self.confidence)\n",
        "        true_dist[:, self.padding_idx] = 0\n",
        "        mask = torch.nonzero(target.data == self.padding_idx)\n",
        "        if mask.dim() > 0:\n",
        "            true_dist.index_fill_(0, mask.squeeze(), 0.0)\n",
        "        self.true_dist = true_dist\n",
        "        return self.criterion(x, Variable(true_dist, requires_grad=False))"
      ],
      "execution_count": 0,
      "outputs": []
    },
    {
      "cell_type": "markdown",
      "metadata": {
        "id": "08SZuMYTRerp",
        "colab_type": "text"
      },
      "source": [
        "## Example - 1 (Synthetic Example)\n",
        "\n",
        "Let's test the model on a simple copy-paste task, by generating back the same symbols given a random set of input symbols from a small vocabulary.\n",
        "\n",
        "### Data"
      ]
    },
    {
      "cell_type": "code",
      "metadata": {
        "id": "MRgRIHJkRkSl",
        "colab_type": "code",
        "colab": {}
      },
      "source": [
        "def data_gen(V, batch, nbatches):\n",
        "    \"Generate random data for a src-tgt copy-paste task.\"\n",
        "    for i in range(nbatches):\n",
        "        data = torch.from_numpy(np.random.randint(1, V, size=(batch, 10)))\n",
        "        data[:, 0] = 1\n",
        "        src = Variable(data, requires_grad=False)\n",
        "        tgt = Variable(data, requires_grad=False)\n",
        "        yield Batch(src, tgt, 0)"
      ],
      "execution_count": 0,
      "outputs": []
    },
    {
      "cell_type": "markdown",
      "metadata": {
        "id": "1rTpAXQ9Rmar",
        "colab_type": "text"
      },
      "source": [
        "### Loss Computation"
      ]
    },
    {
      "cell_type": "code",
      "metadata": {
        "id": "OqjZCvKURolg",
        "colab_type": "code",
        "colab": {}
      },
      "source": [
        "class LossCompute:\n",
        "    \"A loss compute and train function.\"\n",
        "    def __init__(self, generator, criterion, opt=None):\n",
        "        self.generator = generator\n",
        "        self.criterion = criterion\n",
        "        self.opt = opt\n",
        "        \n",
        "    def __call__(self, x, y, norm):\n",
        "        x = self.generator(x)\n",
        "        loss = self.criterion(x.contiguous().view(-1, x.size(-1)), \n",
        "                              y.contiguous().view(-1)) / norm\n",
        "        loss.backward()\n",
        "        if self.opt is not None:\n",
        "            self.opt.step()\n",
        "            # clear the variables (set to 0) in the optimizer.\n",
        "            self.opt.optimizer.zero_grad()\n",
        "        return loss.data.item() * norm"
      ],
      "execution_count": 0,
      "outputs": []
    },
    {
      "cell_type": "markdown",
      "metadata": {
        "id": "Pjc9m5sLRrC2",
        "colab_type": "text"
      },
      "source": [
        "### Greedy Decoding"
      ]
    },
    {
      "cell_type": "code",
      "metadata": {
        "id": "mlptlwKqRvTv",
        "colab_type": "code",
        "outputId": "16d369c6-ff2f-4454-cebf-167a38ddd762",
        "colab": {
          "base_uri": "https://localhost:8080/",
          "height": 527
        }
      },
      "source": [
        "# Train the simple copy-paste task.\n",
        "V = 11\n",
        "criterion = LabelSmoothing(size=V, padding_idx=0, smoothing=0.0)\n",
        "model = make_model(V, V, N=2)\n",
        "model_opt = OptWrapper(model.src_embed[0].d_model, 1, 400,\n",
        "        torch.optim.Adam(model.parameters(), lr=0, betas=(0.9, 0.98), eps=1e-9))\n",
        "\n",
        "for epoch in range(10):\n",
        "    model.train()\n",
        "    run_epoch(data_gen(V, 30, 20), model, \n",
        "              LossCompute(model.generator, criterion, model_opt))\n",
        "    model.eval()\n",
        "    print(run_epoch(data_gen(V, 30, 5), model, \n",
        "                    LossCompute(model.generator, criterion, None)))"
      ],
      "execution_count": 0,
      "outputs": [
        {
          "output_type": "stream",
          "text": [
            "Epoch Step: 1 Loss: 3.377486 Tokens per Sec: 357.643402\n",
            "Epoch Step: 1 Loss: 1.968482 Tokens per Sec: 561.436096\n",
            "tensor(1.9242)\n",
            "Epoch Step: 1 Loss: 1.981748 Tokens per Sec: 435.482452\n",
            "Epoch Step: 1 Loss: 1.726898 Tokens per Sec: 562.385742\n",
            "tensor(1.6951)\n",
            "Epoch Step: 1 Loss: 1.844820 Tokens per Sec: 451.907837\n",
            "Epoch Step: 1 Loss: 1.393519 Tokens per Sec: 557.698120\n",
            "tensor(1.4235)\n",
            "Epoch Step: 1 Loss: 1.778232 Tokens per Sec: 449.319824\n",
            "Epoch Step: 1 Loss: 1.079546 Tokens per Sec: 542.655273\n",
            "tensor(1.1017)\n",
            "Epoch Step: 1 Loss: 1.366618 Tokens per Sec: 450.124207\n",
            "Epoch Step: 1 Loss: 0.832779 Tokens per Sec: 553.744629\n",
            "tensor(0.9005)\n",
            "Epoch Step: 1 Loss: 1.042008 Tokens per Sec: 446.459656\n",
            "Epoch Step: 1 Loss: 0.590921 Tokens per Sec: 555.519348\n",
            "tensor(0.6042)\n",
            "Epoch Step: 1 Loss: 0.888322 Tokens per Sec: 445.249847\n",
            "Epoch Step: 1 Loss: 0.595580 Tokens per Sec: 559.068237\n",
            "tensor(0.5606)\n",
            "Epoch Step: 1 Loss: 0.924955 Tokens per Sec: 447.193329\n",
            "Epoch Step: 1 Loss: 0.370550 Tokens per Sec: 548.188782\n",
            "tensor(0.4034)\n",
            "Epoch Step: 1 Loss: 0.515117 Tokens per Sec: 445.278839\n",
            "Epoch Step: 1 Loss: 0.263043 Tokens per Sec: 555.700378\n",
            "tensor(0.2581)\n",
            "Epoch Step: 1 Loss: 0.445703 Tokens per Sec: 443.008820\n",
            "Epoch Step: 1 Loss: 0.234934 Tokens per Sec: 555.392578\n",
            "tensor(0.2389)\n"
          ],
          "name": "stdout"
        }
      ]
    },
    {
      "cell_type": "code",
      "metadata": {
        "id": "YGqZ0EQcRzTD",
        "colab_type": "code",
        "outputId": "c5b3cea9-b328-46af-e2a8-686d04ee5f3b",
        "colab": {
          "base_uri": "https://localhost:8080/",
          "height": 34
        }
      },
      "source": [
        "def greedy_decode(model, src, src_mask, max_len, start_symbol):\n",
        "    \"This code predicts a translation using greedy decoding for simplicity.\"\n",
        "    memory = model.encode(src, src_mask)\n",
        "    ys = torch.ones(1, 1).fill_(start_symbol).type_as(src.data)\n",
        "    for i in range(max_len-1):\n",
        "        out = model.decode(memory, src_mask, \n",
        "                           Variable(ys), \n",
        "                           Variable(subsequent_mask(ys.size(1))\n",
        "                                    .type_as(src.data)))\n",
        "        prob = model.generator(out[:, -1])\n",
        "        _, next_word = torch.max(prob, dim = 1)\n",
        "        next_word = next_word.data[0]\n",
        "        ys = torch.cat([ys, \n",
        "                        torch.ones(1, 1).type_as(src.data).fill_(next_word)], dim=1)\n",
        "    return ys\n",
        "\n",
        "model.eval()\n",
        "src = Variable(torch.LongTensor([[1,2,3,4,5,6,7,8,9,10]]) )\n",
        "src_mask = Variable(torch.ones(1, 1, 10) )\n",
        "print(greedy_decode(model, src, src_mask, max_len=10, start_symbol=1))"
      ],
      "execution_count": 0,
      "outputs": [
        {
          "output_type": "stream",
          "text": [
            "tensor([[ 1,  2,  3,  5,  6,  7,  8,  7,  9, 10]])\n"
          ],
          "name": "stdout"
        }
      ]
    },
    {
      "cell_type": "markdown",
      "metadata": {
        "id": "W1Y2rX3QR3Ie",
        "colab_type": "text"
      },
      "source": [
        "## Example - 2 (Real World Example)\n",
        "\n",
        "Let's test the model on a real-world IWSLT German-English Translation task. "
      ]
    },
    {
      "cell_type": "code",
      "metadata": {
        "id": "oSbN0iKMXS5_",
        "colab_type": "code",
        "outputId": "11517d28-0814-4e6d-81c9-de15ea72a89b",
        "colab": {
          "base_uri": "https://localhost:8080/",
          "height": 428
        }
      },
      "source": [
        "# Download the data.\n",
        "!python -m spacy download en\n",
        "!python -m spacy download de"
      ],
      "execution_count": 0,
      "outputs": [
        {
          "output_type": "stream",
          "text": [
            "Requirement already satisfied: en_core_web_sm==2.1.0 from https://github.com/explosion/spacy-models/releases/download/en_core_web_sm-2.1.0/en_core_web_sm-2.1.0.tar.gz#egg=en_core_web_sm==2.1.0 in /usr/local/lib/python3.6/dist-packages (2.1.0)\n",
            "\u001b[38;5;2m✔ Download and installation successful\u001b[0m\n",
            "You can now load the model via spacy.load('en_core_web_sm')\n",
            "\u001b[38;5;2m✔ Linking successful\u001b[0m\n",
            "/usr/local/lib/python3.6/dist-packages/en_core_web_sm -->\n",
            "/usr/local/lib/python3.6/dist-packages/spacy/data/en\n",
            "You can now load the model via spacy.load('en')\n",
            "Collecting de_core_news_sm==2.1.0\n",
            "\u001b[?25l  Downloading https://github.com/explosion/spacy-models/releases/download/de_core_news_sm-2.1.0/de_core_news_sm-2.1.0.tar.gz (11.1MB)\n",
            "\u001b[K     |████████████████████████████████| 11.1MB 3.9MB/s \n",
            "\u001b[?25hBuilding wheels for collected packages: de-core-news-sm\n",
            "  Building wheel for de-core-news-sm (setup.py) ... \u001b[?25l\u001b[?25hdone\n",
            "  Created wheel for de-core-news-sm: filename=de_core_news_sm-2.1.0-cp36-none-any.whl size=11073065 sha256=200743d46b311275826fc58211b3ffe7126a319698769bec47a403dc96d1aba0\n",
            "  Stored in directory: /tmp/pip-ephem-wheel-cache-4yrzva9i/wheels/b4/8b/5e/d2ce5d2756ca95de22f50f68299708009a4aafda2aea79c4e4\n",
            "Successfully built de-core-news-sm\n",
            "Installing collected packages: de-core-news-sm\n",
            "Successfully installed de-core-news-sm-2.1.0\n",
            "\u001b[38;5;2m✔ Download and installation successful\u001b[0m\n",
            "You can now load the model via spacy.load('de_core_news_sm')\n",
            "\u001b[38;5;2m✔ Linking successful\u001b[0m\n",
            "/usr/local/lib/python3.6/dist-packages/de_core_news_sm -->\n",
            "/usr/local/lib/python3.6/dist-packages/spacy/data/de\n",
            "You can now load the model via spacy.load('de')\n"
          ],
          "name": "stdout"
        }
      ]
    },
    {
      "cell_type": "markdown",
      "metadata": {
        "id": "42QILtYGSFiF",
        "colab_type": "text"
      },
      "source": [
        "### Data Loading\n",
        "\n",
        "Load and tokenize the dataset using torchtext and spacy."
      ]
    },
    {
      "cell_type": "code",
      "metadata": {
        "id": "1m2CBX8CSK-V",
        "colab_type": "code",
        "colab": {}
      },
      "source": [
        "# For data loading.\n",
        "from torchtext import data, datasets\n",
        "\n",
        "if True:\n",
        "    import spacy\n",
        "    spacy_de = spacy.load('de')\n",
        "    spacy_en = spacy.load('en')\n",
        "\n",
        "    def tokenize_de(text):\n",
        "        return [tok.text for tok in spacy_de.tokenizer(text)]\n",
        "\n",
        "    def tokenize_en(text):\n",
        "        return [tok.text for tok in spacy_en.tokenizer(text)]\n",
        "\n",
        "    BOS_WORD = '<s>'\n",
        "    EOS_WORD = '</s>'\n",
        "    BLANK_WORD = \"<blank>\"\n",
        "    SRC = data.Field(tokenize=tokenize_de, pad_token=BLANK_WORD)\n",
        "    TGT = data.Field(tokenize=tokenize_en, init_token = BOS_WORD, \n",
        "                     eos_token = EOS_WORD, pad_token=BLANK_WORD)\n"
      ],
      "execution_count": 0,
      "outputs": []
    },
    {
      "cell_type": "code",
      "metadata": {
        "id": "YYWzWN3GgQKh",
        "colab_type": "code",
        "outputId": "bdf0f7de-b0d8-4e70-e517-f3c3288e5d32",
        "colab": {
          "base_uri": "https://localhost:8080/",
          "height": 391
        }
      },
      "source": [
        "# To save the time, we only consider a small subset of the corpus with length (8, 10]. \n",
        "MAX_LEN = 10\n",
        "MIN_LEN = 8\n",
        "train, val, test = datasets.IWSLT.splits(\n",
        "    exts=('.de', '.en'), fields=(SRC, TGT), \n",
        "    filter_pred=lambda x: MIN_LEN < len(vars(x)['src']) <= MAX_LEN and \n",
        "            MIN_LEN < len(vars(x)['trg']) <= MAX_LEN)\n"
      ],
      "execution_count": 0,
      "outputs": [
        {
          "output_type": "stream",
          "text": [
            "downloading de-en.tgz\n"
          ],
          "name": "stdout"
        },
        {
          "output_type": "stream",
          "text": [
            "de-en.tgz: 100%|██████████| 24.2M/24.2M [00:06<00:00, 3.82MB/s]\n"
          ],
          "name": "stderr"
        },
        {
          "output_type": "stream",
          "text": [
            ".data/iwslt/de-en/IWSLT16.TEDX.tst2013.de-en.de.xml\n",
            ".data/iwslt/de-en/IWSLT16.TED.tst2012.de-en.en.xml\n",
            ".data/iwslt/de-en/IWSLT16.TED.tst2011.de-en.de.xml\n",
            ".data/iwslt/de-en/IWSLT16.TEDX.tst2014.de-en.de.xml\n",
            ".data/iwslt/de-en/IWSLT16.TEDX.dev2012.de-en.de.xml\n",
            ".data/iwslt/de-en/IWSLT16.TEDX.tst2014.de-en.en.xml\n",
            ".data/iwslt/de-en/IWSLT16.TED.dev2010.de-en.de.xml\n",
            ".data/iwslt/de-en/IWSLT16.TED.tst2010.de-en.en.xml\n",
            ".data/iwslt/de-en/IWSLT16.TED.tst2014.de-en.de.xml\n",
            ".data/iwslt/de-en/IWSLT16.TED.tst2012.de-en.de.xml\n",
            ".data/iwslt/de-en/IWSLT16.TED.tst2013.de-en.en.xml\n",
            ".data/iwslt/de-en/IWSLT16.TEDX.dev2012.de-en.en.xml\n",
            ".data/iwslt/de-en/IWSLT16.TED.tst2014.de-en.en.xml\n",
            ".data/iwslt/de-en/IWSLT16.TED.tst2010.de-en.de.xml\n",
            ".data/iwslt/de-en/IWSLT16.TED.tst2013.de-en.de.xml\n",
            ".data/iwslt/de-en/IWSLT16.TEDX.tst2013.de-en.en.xml\n",
            ".data/iwslt/de-en/IWSLT16.TED.tst2011.de-en.en.xml\n",
            ".data/iwslt/de-en/IWSLT16.TED.dev2010.de-en.en.xml\n",
            ".data/iwslt/de-en/train.tags.de-en.de\n",
            ".data/iwslt/de-en/train.tags.de-en.en\n"
          ],
          "name": "stdout"
        }
      ]
    },
    {
      "cell_type": "code",
      "metadata": {
        "id": "ORYxchjQhF3L",
        "colab_type": "code",
        "outputId": "5f5076e8-53a1-41aa-9087-e9874b4eb9e6",
        "colab": {
          "base_uri": "https://localhost:8080/",
          "height": 68
        }
      },
      "source": [
        "print(len([x for x in train.src]))\n",
        "MIN_FREQ = 2\n",
        "SRC.build_vocab(train.src, min_freq=MIN_FREQ)\n",
        "print(len(SRC.vocab))\n",
        "TGT.build_vocab(train.trg, min_freq=MIN_FREQ)\n",
        "print(len(TGT.vocab))"
      ],
      "execution_count": 0,
      "outputs": [
        {
          "output_type": "stream",
          "text": [
            "7230\n",
            "3694\n",
            "3386\n"
          ],
          "name": "stdout"
        }
      ]
    },
    {
      "cell_type": "markdown",
      "metadata": {
        "id": "Ov4olBZBSOew",
        "colab_type": "text"
      },
      "source": [
        "### Data Iterators\n",
        "\n",
        "It generates source and target data at each iteration."
      ]
    },
    {
      "cell_type": "code",
      "metadata": {
        "id": "8_yueMoiQ74_",
        "colab_type": "code",
        "colab": {}
      },
      "source": [
        "global max_src_in_batch, max_tgt_in_batch\n",
        "def batch_size_fn(new, count, sofar):\n",
        "    \"Keep augmenting batch and calculate total number of tokens + padding.\"\n",
        "    global max_src_in_batch, max_tgt_in_batch\n",
        "    if count == 1:\n",
        "        max_src_in_batch = 0\n",
        "        max_tgt_in_batch = 0\n",
        "    max_src_in_batch = max(max_src_in_batch,  len(new.src))\n",
        "    max_tgt_in_batch = max(max_tgt_in_batch,  len(new.trg) + 2)\n",
        "    src_elements = count * max_src_in_batch\n",
        "    tgt_elements = count * max_tgt_in_batch\n",
        "    return max(src_elements, tgt_elements)"
      ],
      "execution_count": 0,
      "outputs": []
    },
    {
      "cell_type": "code",
      "metadata": {
        "id": "wVQC1u2MSTWp",
        "colab_type": "code",
        "colab": {}
      },
      "source": [
        "class MyIterator(data.Iterator):\n",
        "    def create_batches(self):\n",
        "        if self.train:\n",
        "            def pool(d, random_shuffler):\n",
        "                for p in data.batch(d, self.batch_size):\n",
        "                    p_batch = data.batch(\n",
        "                        sorted(p, key=self.sort_key),\n",
        "                        self.batch_size, self.batch_size_fn)\n",
        "                    for b in random_shuffler(list(p_batch)):\n",
        "                        yield b\n",
        "            self.batches = pool(self.data(), self.random_shuffler)\n",
        "            \n",
        "        else:\n",
        "            self.batches = []\n",
        "            for b in data.batch(self.data(), self.batch_size,\n",
        "                                          self.batch_size_fn):\n",
        "                self.batches.append(sorted(b, key=self.sort_key))\n",
        "\n",
        "def rebatch(pad_idx, batch):\n",
        "    \"Fix order in torchtext to match ours\"\n",
        "    src, trg = batch.src.transpose(0, 1), batch.trg.transpose(0, 1)\n",
        "    return Batch(src, trg, pad_idx)"
      ],
      "execution_count": 0,
      "outputs": []
    },
    {
      "cell_type": "markdown",
      "metadata": {
        "id": "qaoVy6B8SkY0",
        "colab_type": "text"
      },
      "source": [
        "We create the model, criterion, and data iterators."
      ]
    },
    {
      "cell_type": "code",
      "metadata": {
        "id": "BE18RW67crr1",
        "colab_type": "code",
        "colab": {}
      },
      "source": [
        "if True:\n",
        "    pad_idx = TGT.vocab.stoi[\"<blank>\"]\n",
        "    model = make_model(len(SRC.vocab), len(TGT.vocab), N=1)\n",
        "    #model.cuda()\n",
        "    criterion = LabelSmoothing(size=len(TGT.vocab), padding_idx=pad_idx, smoothing=0.1)\n",
        "    #criterion.cuda()\n",
        "    BATCH_SIZE = 100\n",
        "    train_iter = MyIterator(train, batch_size=BATCH_SIZE,\n",
        "                            repeat=False, sort_key=lambda x: (len(x.src), len(x.trg)),\n",
        "                            batch_size_fn=batch_size_fn, train=True)\n",
        "    valid_iter = MyIterator(val, batch_size=BATCH_SIZE,\n",
        "                            repeat=False, sort_key=lambda x: (len(x.src), len(x.trg)),\n",
        "                            batch_size_fn=batch_size_fn, train=False)"
      ],
      "execution_count": 0,
      "outputs": []
    },
    {
      "cell_type": "markdown",
      "metadata": {
        "id": "oWOWIQtlSsCO",
        "colab_type": "text"
      },
      "source": [
        "### Training the System"
      ]
    },
    {
      "cell_type": "code",
      "metadata": {
        "id": "kotihVEoTBpE",
        "colab_type": "code",
        "colab": {}
      },
      "source": [
        "#!wget https://s3.amazonaws.com/opennmt-models/iwslt.pt"
      ],
      "execution_count": 0,
      "outputs": []
    },
    {
      "cell_type": "code",
      "metadata": {
        "id": "JZ9YSzM2TDvZ",
        "colab_type": "code",
        "colab": {}
      },
      "source": [
        "if True:\n",
        "    model_opt = OptWrapper(model.src_embed[0].d_model, 1, 2000,\n",
        "            torch.optim.Adam(model.parameters(), lr=0, betas=(0.9, 0.98), eps=1e-9))\n",
        "    for epoch in range(10):\n",
        "        model.train()\n",
        "        run_epoch((rebatch(pad_idx, b) for b in train_iter), \n",
        "                  model, \n",
        "                  LossCompute(model.generator, criterion, opt=model_opt))\n",
        "        model.eval()\n",
        "        loss = run_epoch((rebatch(pad_idx, b) for b in valid_iter), \n",
        "                          model, \n",
        "                          LossCompute(model.generator, criterion, opt=None))\n",
        "        print(loss)\n",
        "else:\n",
        "    model = torch.load(\"iwslt.pt\")"
      ],
      "execution_count": 0,
      "outputs": []
    },
    {
      "cell_type": "markdown",
      "metadata": {
        "id": "SmBmBs5wTE1i",
        "colab_type": "text"
      },
      "source": [
        "We evaluate the trained model by simply translating the first sentence in the validation set. "
      ]
    },
    {
      "cell_type": "code",
      "metadata": {
        "id": "rieLhx19TIyU",
        "colab_type": "code",
        "outputId": "b4521e15-6207-4e15-e64e-b4d93023fde6",
        "colab": {
          "base_uri": "https://localhost:8080/",
          "height": 51
        }
      },
      "source": [
        "for i, batch in enumerate(valid_iter):\n",
        "    src = batch.src.transpose(0, 1)[:1]\n",
        "    src_mask = (src != SRC.vocab.stoi[\"<blank>\"]).unsqueeze(-2)\n",
        "    out = greedy_decode(model, src, src_mask, \n",
        "                        max_len=60, start_symbol=TGT.vocab.stoi[\"<s>\"])\n",
        "    print(\"Translation:\", end=\"\\t\")\n",
        "    for i in range(1, out.size(1)):\n",
        "        sym = TGT.vocab.itos[out[0, i]]\n",
        "        if sym == \"</s>\": break\n",
        "        print(sym, end =\" \")\n",
        "    print()\n",
        "    print(\"Target:\", end=\"\\t\")\n",
        "    for i in range(1, batch.trg.size(0)):\n",
        "        sym = TGT.vocab.itos[batch.trg.data[i, 0]]\n",
        "        if sym == \"</s>\": break\n",
        "        print(sym, end =\" \")\n",
        "    print()\n",
        "    break"
      ],
      "execution_count": 0,
      "outputs": [
        {
          "output_type": "stream",
          "text": [
            "Translation:\tThis is my life . What is what ? \n",
            "Target:\tThat is my <unk> . What 's yours ? \n"
          ],
          "name": "stdout"
        }
      ]
    },
    {
      "cell_type": "markdown",
      "metadata": {
        "id": "PVIGIvuXAfBx",
        "colab_type": "text"
      },
      "source": [
        "## References\n",
        "\n",
        "[1] Vaswani, Ashish, et al. \"Attention is all you need.\" Advances in neural information processing systems. 2017.\n",
        "\n",
        "[2] Klein, Guillaume, et al. \"Opennmt: Open-source toolkit for neural machine translation.\" arXiv preprint arXiv:1701.02810 (2017).\n",
        "\n",
        "[3] http://jalammar.github.io/illustrated-transformer/"
      ]
    }
  ]
}